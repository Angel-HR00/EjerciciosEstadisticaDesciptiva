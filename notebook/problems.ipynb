{
    "cells": [
        {
            "cell_type": "markdown",
            "id": "ac622319",
            "metadata": {},
            "source": [
                "# Descriptive statistics problems"
            ]
        },
        {
            "cell_type": "markdown",
            "id": "5e0ab0d5",
            "metadata": {},
            "source": [
                "### Exercise 1\n",
                "\n",
                "We will use NumPy to obtain information to describe statistically.\n",
                "\n",
                "- Generate an array of 100 elements following a normal distribution.\n",
                "- Generate an array of 100 elements following a chi-square distribution with 3 degrees of freedom.\n",
                "- Calculate the main metrics and statistical measures that best describe the two vectors."
            ]
        },
        {
            "cell_type": "code",
            "execution_count": 64,
            "id": "34720ab6",
            "metadata": {},
            "outputs": [
                {
                    "name": "stdout",
                    "output_type": "stream",
                    "text": [
                        "Normal mean: -0.022789814366585885\n",
                        "Chi mean: 2.7115988106973057\n",
                        "Normal median: 0.018350530329018174\n",
                        "Chi median: 2.002921897518799\n",
                        "Normal mode: -0.6075476972112264\n",
                        "Chi mode: 2.4081950302585486\n",
                        "Normal range: 5.173484932704628\n",
                        "Chi range: 9.593419555939674\n",
                        "Normal variance: 0.9555380164731989 and std: 0.9775162487003471\n",
                        "Chi variance: 5.307372977695415 and std: 2.3037736385538\n",
                        "Normal Skew: -0.21116592928516126\n",
                        "Chi Skew: 1.1587021564986157\n",
                        "Normal kurtosis: -0.014446891385965444\n",
                        "Chi kurtosis: 0.7852313317464592\n"
                    ]
                }
            ],
            "source": [
                "import numpy as np\n",
                "import statistics as stats\n",
                "from scipy.stats import skew, kurtosis\n",
                "\n",
                "np.random.seed(40)\n",
                "\n",
                "normal = np.random.normal(size=100)\n",
                "chiSquare = np.random.chisquare(3,100)\n",
                "\n",
                "#print(f\"Vector normal: {normal}\")\n",
                "#print(f\"Vector chi-square: {chiSquare}\")\n",
                "\n",
                "print(f\"Normal mean: {stats.mean(normal)}\")\n",
                "print(f\"Chi mean: {stats.mean(chiSquare)}\")\n",
                "\n",
                "print(f\"Normal median: {stats.median(normal)}\")\n",
                "print(f\"Chi median: {stats.median(chiSquare)}\")\n",
                "\n",
                "print(f\"Normal mode: {stats.mode(normal)}\")\n",
                "print(f\"Chi mode: {stats.mode(chiSquare)}\")\n",
                "\n",
                "#Rango \n",
                "normalRange = max(normal) - min(normal)\n",
                "chiRange = max(chiSquare) - min(chiSquare)\n",
                "print(f\"Normal range: {normalRange}\")\n",
                "print(f\"Chi range: {chiRange}\")\n",
                "\n",
                "#Varianza y desviacion normal\n",
                "normalVar = stats.variance(normal)\n",
                "normalStd = stats.stdev(normal)\n",
                "\n",
                "chiVar = stats.variance(chiSquare)\n",
                "chiStd = stats.stdev(chiSquare)\n",
                "\n",
                "print(f\"Normal variance: {normalVar} and std: {normalStd}\")\n",
                "print(f\"Chi variance: {chiVar} and std: {chiStd}\")\n",
                "\n",
                "#Calculo asimetría\n",
                "normalSkew = skew(normal)\n",
                "chiSkew = skew(chiSquare)\n",
                "\n",
                "print(f\"Normal Skew: {normalSkew}\")\n",
                "print(f\"Chi Skew: {chiSkew}\")\n",
                "\n",
                "#Calculo curtosis\n",
                "normalKurt = kurtosis(normal)\n",
                "chiKurt = kurtosis(chiSquare)\n",
                "\n",
                "print(f\"Normal kurtosis: {normalKurt}\")\n",
                "print(f\"Chi kurtosis: {chiKurt}\")"
            ]
        },
        {
            "cell_type": "markdown",
            "id": "46c70c3d",
            "metadata": {},
            "source": [
                "### Exercise 2\n",
                "\n",
                "Write a Python program to calculate the standard deviation of the following data:\n",
                "\n",
                "```py\n",
                "data = [4, 2, 5, 8, 6]\n",
                "```"
            ]
        },
        {
            "cell_type": "code",
            "execution_count": 61,
            "id": "d590308e",
            "metadata": {},
            "outputs": [
                {
                    "name": "stdout",
                    "output_type": "stream",
                    "text": [
                        "Datos: [4, 2, 5, 8, 6]\n",
                        "El valor de la varianza es 2.0\n"
                    ]
                }
            ],
            "source": [
                "import numpy as np\n",
                "import math\n",
                "\n",
                "data = [4, 2, 5, 8, 6]\n",
                "mean_data = np.mean(data)\n",
                "\n",
                "def standad_deviation(data):\n",
                "    \n",
                "    sd = 0\n",
                "    for i in data:\n",
                "        sd += (i - mean_data) **2\n",
                "    sd = math.sqrt(sd / len(data))\n",
                "    \n",
                "    return sd\n",
                "\n",
                "\n",
                "print(f\"Datos: {data}\")\n",
                "print(f\"El valor de la varianza es {standad_deviation(data)}\")"
            ]
        }
    ],
    "metadata": {
        "interpreter": {
            "hash": "9248718ffe6ce6938b217e69dbcc175ea21f4c6b28a317e96c05334edae734bb"
        },
        "kernelspec": {
            "display_name": "Python 3.9.12 ('ML-BOOTCAMP')",
            "language": "python",
            "name": "python3"
        },
        "language_info": {
            "codemirror_mode": {
                "name": "ipython",
                "version": 3
            },
            "file_extension": ".py",
            "mimetype": "text/x-python",
            "name": "python",
            "nbconvert_exporter": "python",
            "pygments_lexer": "ipython3",
            "version": "3.12.1"
        }
    },
    "nbformat": 4,
    "nbformat_minor": 5
}
